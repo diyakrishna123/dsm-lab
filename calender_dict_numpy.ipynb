{
 "cells": [
  {
   "cell_type": "code",
   "execution_count": 1,
   "id": "74adbc2a",
   "metadata": {},
   "outputs": [
    {
     "name": "stdout",
     "output_type": "stream",
     "text": [
      "hello\n"
     ]
    }
   ],
   "source": [
    "print (\"hello\")"
   ]
  },
  {
   "cell_type": "code",
   "execution_count": 3,
   "id": "6be38b3e",
   "metadata": {},
   "outputs": [
    {
     "name": "stdout",
     "output_type": "stream",
     "text": [
      "5\n"
     ]
    }
   ],
   "source": [
    "a=2\n",
    "b=3\n",
    "c=a+b\n",
    "print(c)"
   ]
  },
  {
   "cell_type": "code",
   "execution_count": null,
   "id": "b35a8d8d",
   "metadata": {},
   "outputs": [],
   "source": [
    "a=int(input(\"enter a number:\"))"
   ]
  },
  {
   "cell_type": "code",
   "execution_count": null,
   "id": "b24a36dd",
   "metadata": {
    "scrolled": true
   },
   "outputs": [],
   "source": [
    "a=input(\"enter name:\")"
   ]
  },
  {
   "cell_type": "code",
   "execution_count": null,
   "id": "5a39f742",
   "metadata": {},
   "outputs": [],
   "source": [
    "def add(x,y):\n",
    "    return x+y\n",
    "def substract(x,y):\n",
    "    return x-y\n",
    "def multiplication(x,y):\n",
    "    return x*y\n",
    "def divide(x,y):\n",
    "    if y == 0:\n",
    "        return \"error!!\"\n",
    "    else:\n",
    "        return x/y\n",
    "\n",
    "def calculator():\n",
    "    print(\"select \")\n",
    "    print (\"1.addition:\")\n",
    "    print (\"2.subtract\")\n",
    "    print (\"3.multiply\")\n",
    "    print (\"4.divide\")\n",
    "    \n",
    "    choice = input(\"enter choice (1/2/3/4):\")\n",
    "    if choice in ('1','2','3','4'):\n",
    "        try:\n",
    "            num1=float(input(\"enter frist number\"))\n",
    "    "
   ]
  },
  {
   "cell_type": "code",
   "execution_count": null,
   "id": "a01c283a",
   "metadata": {},
   "outputs": [],
   "source": [
    "import datatime\n",
    "def display_msg():\n",
    "    current_time=datatime.datatime.now()\n",
    "    if current_time.hour<12:\n",
    "        print(\"good mrng\")\n",
    "        elif current_time.hour<18:\n",
    "            print(\"good afternoon\")\n",
    "            else:\n",
    "                print(\"good evening\")\n",
    "            "
   ]
  },
  {
   "cell_type": "code",
   "execution_count": null,
   "id": "14dadcbf",
   "metadata": {},
   "outputs": [],
   "source": [
    "\n",
    "    set1={1,2,3,4}\n",
    "    set2={4,5,6,7}\n",
    "    print(set1)"
   ]
  },
  {
   "cell_type": "code",
   "execution_count": null,
   "id": "6f6f4704",
   "metadata": {},
   "outputs": [],
   "source": [
    "set1.add(5)\n",
    "print(\"after adding:\",set1)"
   ]
  },
  {
   "cell_type": "code",
   "execution_count": null,
   "id": "1457991b",
   "metadata": {},
   "outputs": [],
   "source": [
    "set1.remove(3)\n",
    "print(\"after del:\",set1)"
   ]
  },
  {
   "cell_type": "code",
   "execution_count": null,
   "id": "56ea7a5a",
   "metadata": {},
   "outputs": [],
   "source": [
    "\n",
    "print(set1.union(set2))"
   ]
  },
  {
   "cell_type": "code",
   "execution_count": null,
   "id": "a2f938c8",
   "metadata": {},
   "outputs": [],
   "source": [
    "dict1={\"a\":1,\"b\":2,\"c\":3}\n",
    "print(dict1)\n",
    "print(type(dict1))\n"
   ]
  },
  {
   "cell_type": "code",
   "execution_count": null,
   "id": "0ab389cf",
   "metadata": {},
   "outputs": [],
   "source": [
    "dict1[\"a\"]=10\n",
    "print(dict1)"
   ]
  },
  {
   "cell_type": "code",
   "execution_count": null,
   "id": "3db5a324",
   "metadata": {},
   "outputs": [],
   "source": [
    "del dict1['b']\n",
    "print(dict1)"
   ]
  },
  {
   "cell_type": "code",
   "execution_count": null,
   "id": "73cf6481",
   "metadata": {},
   "outputs": [],
   "source": [
    "tuple1=(1,3,6,9)\n",
    "print(tuple1)\n",
    "print(tuple1[1:3])"
   ]
  },
  {
   "cell_type": "code",
   "execution_count": null,
   "id": "d9a0e557",
   "metadata": {},
   "outputs": [],
   "source": [
    "print(len(tuple1))"
   ]
  },
  {
   "cell_type": "code",
   "execution_count": 41,
   "id": "1a23458e",
   "metadata": {},
   "outputs": [
    {
     "ename": "TypeError",
     "evalue": "'tuple' object is not callable",
     "output_type": "error",
     "traceback": [
      "\u001b[1;31m---------------------------------------------------------------------------\u001b[0m",
      "\u001b[1;31mTypeError\u001b[0m                                 Traceback (most recent call last)",
      "\u001b[1;32m~\\AppData\\Local\\Temp/ipykernel_6636/2679573972.py\u001b[0m in \u001b[0;36m<module>\u001b[1;34m\u001b[0m\n\u001b[0;32m      2\u001b[0m \u001b[0mlist1\u001b[0m\u001b[1;33m=\u001b[0m\u001b[0mlist\u001b[0m\u001b[1;33m(\u001b[0m\u001b[0mtuple1\u001b[0m\u001b[1;33m)\u001b[0m\u001b[1;33m\u001b[0m\u001b[1;33m\u001b[0m\u001b[0m\n\u001b[0;32m      3\u001b[0m \u001b[0mlist1\u001b[0m\u001b[1;33m.\u001b[0m\u001b[0mappend\u001b[0m\u001b[1;33m(\u001b[0m\u001b[1;36m8\u001b[0m\u001b[1;33m)\u001b[0m\u001b[1;33m\u001b[0m\u001b[1;33m\u001b[0m\u001b[0m\n\u001b[1;32m----> 4\u001b[1;33m \u001b[0mtuple2\u001b[0m\u001b[1;33m=\u001b[0m\u001b[0mtuple\u001b[0m\u001b[1;33m(\u001b[0m\u001b[0mlist1\u001b[0m\u001b[1;33m)\u001b[0m\u001b[1;33m\u001b[0m\u001b[1;33m\u001b[0m\u001b[0m\n\u001b[0m\u001b[0;32m      5\u001b[0m \u001b[0mprint\u001b[0m\u001b[1;33m(\u001b[0m\u001b[0mtuple2\u001b[0m\u001b[1;33m)\u001b[0m\u001b[1;33m\u001b[0m\u001b[1;33m\u001b[0m\u001b[0m\n",
      "\u001b[1;31mTypeError\u001b[0m: 'tuple' object is not callable"
     ]
    }
   ],
   "source": [
    "tuple1=(1,3.4)\n",
    "list1=list(tuple1)\n",
    "list1.append(8)\n",
    "tuple2=tuple(list1)\n",
    "print(tuple2)\n"
   ]
  },
  {
   "cell_type": "code",
   "execution_count": null,
   "id": "44e0eaea",
   "metadata": {},
   "outputs": [],
   "source": []
  }
 ],
 "metadata": {
  "kernelspec": {
   "display_name": "Python 3 (ipykernel)",
   "language": "python",
   "name": "python3"
  },
  "language_info": {
   "codemirror_mode": {
    "name": "ipython",
    "version": 3
   },
   "file_extension": ".py",
   "mimetype": "text/x-python",
   "name": "python",
   "nbconvert_exporter": "python",
   "pygments_lexer": "ipython3",
   "version": "3.9.7"
  }
 },
 "nbformat": 4,
 "nbformat_minor": 5
}
