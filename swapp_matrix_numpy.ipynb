{
 "cells": [
  {
   "cell_type": "code",
   "execution_count": 7,
   "id": "a8489ecb",
   "metadata": {},
   "outputs": [
    {
     "name": "stdout",
     "output_type": "stream",
     "text": [
      "original array:\n",
      "[[ 0  1  2  3]\n",
      " [ 4  5  6  7]\n",
      " [ 8  9 10 11]\n",
      " [12 13 14 15]]\n",
      "\n",
      "new array after swapping frist and last rows of the said array:\n",
      "[[12 13 14 15]\n",
      " [ 4  5  6  7]\n",
      " [ 8  9 10 11]\n",
      " [ 0  1  2  3]]\n"
     ]
    }
   ],
   "source": [
    "#create a 4*4 array with random values and creat a new array after swapping 1st and last row#\n",
    "\n",
    "import numpy as np\n",
    "nums=np.arange(16,dtype='int').reshape(-1,4)\n",
    "print(\"original array:\")\n",
    "print(nums)\n",
    "print(\"\\nnew array after swapping frist and last rows of the said array:\")\n",
    "#new_nums=nums[3:3:-1]\n",
    "nums=nums[[-1,1,2,0]]\n",
    "print(nums)"
   ]
  },
  {
   "cell_type": "code",
   "execution_count": 2,
   "id": "4116bf58",
   "metadata": {},
   "outputs": [
    {
     "name": "stdout",
     "output_type": "stream",
     "text": [
      "array\n",
      "[[ 0  1  2  3]\n",
      " [ 4  5  6  7]\n",
      " [ 8  9 10 11]\n",
      " [12 13 14 15]]\n",
      "\n",
      " after loading,content of the text file\n",
      "[[ 0.  1.  2.  3.]\n",
      " [ 4.  5.  6.  7.]\n",
      " [ 8.  9. 10. 11.]\n",
      " [12. 13. 14. 15.]]\n"
     ]
    }
   ],
   "source": [
    "#save a given array to a text file and load it arr.text---\n",
    "\n",
    "import numpy as np\n",
    "import os\n",
    "x=np.arange(16).reshape(4,4)\n",
    "print(\"array\")\n",
    "print(x)\n",
    "header='C1 C2 C3 C4'\n",
    "np.savetxt('7_array.txt',x,fmt=\"%d\",header=header)\n",
    "print(\"\\n after loading,content of the text file\")\n",
    "print(np.loadtxt('7_array.txt'))"
   ]
  },
  {
   "cell_type": "code",
   "execution_count": null,
   "id": "23af18e1",
   "metadata": {},
   "outputs": [],
   "source": [
    "                  "
   ]
  }
 ],
 "metadata": {
  "kernelspec": {
   "display_name": "Python 3 (ipykernel)",
   "language": "python",
   "name": "python3"
  },
  "language_info": {
   "codemirror_mode": {
    "name": "ipython",
    "version": 3
   },
   "file_extension": ".py",
   "mimetype": "text/x-python",
   "name": "python",
   "nbconvert_exporter": "python",
   "pygments_lexer": "ipython3",
   "version": "3.9.7"
  }
 },
 "nbformat": 4,
 "nbformat_minor": 5
}
